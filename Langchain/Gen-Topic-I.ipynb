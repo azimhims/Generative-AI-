{
 "cells": [
  {
   "cell_type": "code",
   "execution_count": 31,
   "id": "1414846a",
   "metadata": {},
   "outputs": [],
   "source": []
  },
  {
   "cell_type": "code",
   "execution_count": 33,
   "id": "d27accc6",
   "metadata": {},
   "outputs": [
    {
     "name": "stdout",
     "output_type": "stream",
     "text": [
      "········\n"
     ]
    }
   ],
   "source": [
    "import getpass\n",
    "import os\n",
    "\n",
    "os.environ[\"LANGCHAIN_TRACING_V2\"] = \"true\"\n",
    "os.environ[\"LANGCHAIN_API_KEY\"] = getpass.getpass()"
   ]
  },
  {
   "cell_type": "code",
   "execution_count": 34,
   "id": "293fd076",
   "metadata": {},
   "outputs": [
    {
     "name": "stderr",
     "output_type": "stream",
     "text": [
      "WARNING: Ignoring invalid distribution -treamlit (c:\\python310\\lib\\site-packages)\n",
      "WARNING: Ignoring invalid distribution -treamlit (c:\\python310\\lib\\site-packages)\n",
      "ERROR: pip's dependency resolver does not currently take into account all the packages that are installed. This behaviour is the source of the following dependency conflicts.\n",
      "langchain 0.2.10 requires langchain-core<0.3.0,>=0.2.22, but you have langchain-core 0.3.7 which is incompatible.\n",
      "langchain-cohere 0.1.9 requires langchain-core<0.3,>=0.2.2, but you have langchain-core 0.3.7 which is incompatible.\n",
      "langchain-community 0.2.9 requires langchain-core<0.3.0,>=0.2.22, but you have langchain-core 0.3.7 which is incompatible.\n",
      "langchain-experimental 0.0.62 requires langchain-core<0.3.0,>=0.2.10, but you have langchain-core 0.3.7 which is incompatible.\n",
      "langchain-google-genai 1.0.8 requires langchain-core<0.3,>=0.2.17, but you have langchain-core 0.3.7 which is incompatible.\n",
      "langchain-openai 0.1.17 requires langchain-core<0.3.0,>=0.2.20, but you have langchain-core 0.3.7 which is incompatible.\n",
      "langchain-openai 0.1.17 requires openai<2.0.0,>=1.32.0, but you have openai 0.28.0 which is incompatible.\n",
      "langchain-text-splitters 0.2.2 requires langchain-core<0.3.0,>=0.2.10, but you have langchain-core 0.3.7 which is incompatible.\n",
      "\n",
      "[notice] A new release of pip is available: 24.1.2 -> 24.2\n",
      "[notice] To update, run: python.exe -m pip install --upgrade pip\n"
     ]
    }
   ],
   "source": []
  },
  {
   "cell_type": "code",
   "execution_count": 41,
   "id": "ee6f79f9",
   "metadata": {
    "scrolled": true
   },
   "outputs": [
    {
     "name": "stdout",
     "output_type": "stream",
     "text": [
      "Collecting pydantic==1.10.9\n",
      "  Downloading pydantic-1.10.9-cp310-cp310-win_amd64.whl.metadata (149 kB)\n",
      "     ------------------------------------ 149.2/149.2 kB 634.4 kB/s eta 0:00:00\n",
      "Requirement already satisfied: typing-extensions>=4.2.0 in c:\\python310\\lib\\site-packages (from pydantic==1.10.9) (4.9.0)\n",
      "Downloading pydantic-1.10.9-cp310-cp310-win_amd64.whl (2.1 MB)\n",
      "   ---------------------------------------- 2.1/2.1 MB 861.5 kB/s eta 0:00:00\n",
      "Installing collected packages: pydantic\n",
      "  Attempting uninstall: pydantic\n",
      "    Found existing installation: pydantic 1.10.18\n",
      "    Uninstalling pydantic-1.10.18:\n",
      "      Successfully uninstalled pydantic-1.10.18\n",
      "Successfully installed pydantic-1.10.9\n"
     ]
    },
    {
     "name": "stderr",
     "output_type": "stream",
     "text": [
      "WARNING: Ignoring invalid distribution -treamlit (c:\\python310\\lib\\site-packages)\n",
      "WARNING: Ignoring invalid distribution -treamlit (c:\\python310\\lib\\site-packages)\n",
      "ERROR: pip's dependency resolver does not currently take into account all the packages that are installed. This behaviour is the source of the following dependency conflicts.\n",
      "alpaca-py 0.16.0 requires pydantic<3.0.0,>=2.0.3, but you have pydantic 1.10.9 which is incompatible.\n",
      "crewai 0.41.1 requires openai<2.0.0,>=1.13.3, but you have openai 0.28.0 which is incompatible.\n",
      "crewai 0.41.1 requires pydantic<3.0.0,>=2.4.2, but you have pydantic 1.10.9 which is incompatible.\n",
      "crewai-tools 0.4.26 requires openai<2.0.0,>=1.12.0, but you have openai 0.28.0 which is incompatible.\n",
      "crewai-tools 0.4.26 requires pydantic<3.0.0,>=2.6.1, but you have pydantic 1.10.9 which is incompatible.\n",
      "embedchain 0.1.118 requires openai>=1.1.1, but you have openai 0.28.0 which is incompatible.\n",
      "gradio 4.15.0 requires pydantic>=2.0, but you have pydantic 1.10.9 which is incompatible.\n",
      "instructor 1.3.3 requires openai<2.0.0,>=1.1.0, but you have openai 0.28.0 which is incompatible.\n",
      "instructor 1.3.3 requires pydantic<3.0.0,>=2.7.0, but you have pydantic 1.10.9 which is incompatible.\n",
      "langchain 0.2.10 requires langchain-core<0.3.0,>=0.2.22, but you have langchain-core 0.3.7 which is incompatible.\n",
      "langchain-cohere 0.1.9 requires langchain-core<0.3,>=0.2.2, but you have langchain-core 0.3.7 which is incompatible.\n",
      "langchain-community 0.2.9 requires langchain-core<0.3.0,>=0.2.22, but you have langchain-core 0.3.7 which is incompatible.\n",
      "langchain-core 0.3.7 requires pydantic<3.0.0,>=2.5.2; python_full_version < \"3.12.4\", but you have pydantic 1.10.9 which is incompatible.\n",
      "langchain-experimental 0.0.62 requires langchain-core<0.3.0,>=0.2.10, but you have langchain-core 0.3.7 which is incompatible.\n",
      "langchain-google-genai 1.0.8 requires langchain-core<0.3,>=0.2.17, but you have langchain-core 0.3.7 which is incompatible.\n",
      "langchain-openai 0.1.17 requires langchain-core<0.3.0,>=0.2.20, but you have langchain-core 0.3.7 which is incompatible.\n",
      "langchain-openai 0.1.17 requires openai<2.0.0,>=1.32.0, but you have openai 0.28.0 which is incompatible.\n",
      "langchain-text-splitters 0.2.2 requires langchain-core<0.3.0,>=0.2.10, but you have langchain-core 0.3.7 which is incompatible.\n",
      "lightning 2.0.1 requires fastapi<0.89.0, but you have fastapi 0.111.1 which is incompatible.\n",
      "mem0ai 0.0.5 requires openai<2.0.0,>=1.33.0, but you have openai 0.28.0 which is incompatible.\n",
      "mem0ai 0.0.5 requires pydantic<3.0.0,>=2.7.3, but you have pydantic 1.10.9 which is incompatible.\n",
      "spacy 3.7.4 requires typer<0.10.0,>=0.3.0, but you have typer 0.12.3 which is incompatible.\n",
      "sqlmodel 0.0.18 requires pydantic<3.0.0,>=1.10.13, but you have pydantic 1.10.9 which is incompatible.\n",
      "together 1.2.2 requires pydantic<3.0.0,>=2.6.3, but you have pydantic 1.10.9 which is incompatible.\n",
      "weasel 0.3.4 requires typer<0.10.0,>=0.3.0, but you have typer 0.12.3 which is incompatible.\n",
      "\n",
      "[notice] A new release of pip is available: 24.1.2 -> 24.2\n",
      "[notice] To update, run: python.exe -m pip install --upgrade pip\n"
     ]
    }
   ],
   "source": [
    "#!pip install \"pydantic<2\"\n",
    "!pip install pydantic==1.10.9\n"
   ]
  },
  {
   "cell_type": "code",
   "execution_count": 1,
   "id": "676de6d4",
   "metadata": {},
   "outputs": [
    {
     "name": "stdout",
     "output_type": "stream",
     "text": [
      "········\n"
     ]
    }
   ],
   "source": [
    "import getpass\n",
    "import os\n",
    "\n",
    "os.environ[\"GROQ_API_KEY\"] = getpass.getpass()\n",
    "\n",
    "from langchain_groq import ChatGroq\n",
    "\n",
    "model = ChatGroq(model=\"llama3-8b-8192\")"
   ]
  },
  {
   "cell_type": "code",
   "execution_count": 7,
   "id": "cf1ecdb9",
   "metadata": {},
   "outputs": [],
   "source": [
    "from langchain_core.messages import HumanMessage, SystemMessage\n",
    "\n",
    "messages = [\n",
    "    SystemMessage(content=\"Translate the following from English into Arabic\"),\n",
    "    HumanMessage(content=\"jani where are you!\"),\n",
    "]\n",
    "\n",
    "result = model.invoke(messages)"
   ]
  },
  {
   "cell_type": "code",
   "execution_count": 11,
   "id": "ab1c09a9",
   "metadata": {},
   "outputs": [
    {
     "data": {
      "text/plain": [
       "'هانى أين أنت!'"
      ]
     },
     "execution_count": 11,
     "metadata": {},
     "output_type": "execute_result"
    }
   ],
   "source": [
    "result.content"
   ]
  },
  {
   "cell_type": "code",
   "execution_count": 12,
   "id": "d94d0d70",
   "metadata": {},
   "outputs": [],
   "source": [
    "def chatbot(task,humanmessage):\n",
    "    messages=[SystemMessage(content=f\"Translate the following from Englisht into {task}\"), \n",
    "             HumanMessage(content=humanmessage),]\n",
    "    return messages"
   ]
  },
  {
   "cell_type": "code",
   "execution_count": 15,
   "id": "d477b198",
   "metadata": {},
   "outputs": [],
   "source": [
    "result = model.invoke(chatbot('Germani','how are you'))"
   ]
  },
  {
   "cell_type": "code",
   "execution_count": 16,
   "id": "353d83b4",
   "metadata": {},
   "outputs": [
    {
     "data": {
      "text/plain": [
       "'The translation of \"how are you\" in German is \"Wie geht es dir?\"'"
      ]
     },
     "execution_count": 16,
     "metadata": {},
     "output_type": "execute_result"
    }
   ],
   "source": [
    "result.content"
   ]
  },
  {
   "cell_type": "code",
   "execution_count": null,
   "id": "0447ec6a",
   "metadata": {},
   "outputs": [],
   "source": []
  }
 ],
 "metadata": {
  "kernelspec": {
   "display_name": "Python 3 (ipykernel)",
   "language": "python",
   "name": "python3"
  },
  "language_info": {
   "codemirror_mode": {
    "name": "ipython",
    "version": 3
   },
   "file_extension": ".py",
   "mimetype": "text/x-python",
   "name": "python",
   "nbconvert_exporter": "python",
   "pygments_lexer": "ipython3",
   "version": "3.10.4"
  }
 },
 "nbformat": 4,
 "nbformat_minor": 5
}
