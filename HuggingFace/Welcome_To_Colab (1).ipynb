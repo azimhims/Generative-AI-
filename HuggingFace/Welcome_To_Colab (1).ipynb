{
  "cells": [
    {
      "cell_type": "code",
      "source": [
        "path = '/content/Sale July 24-29th Oct 24 - Copy.xlsx'"
      ],
      "metadata": {
        "id": "7zTooO_830yL"
      },
      "execution_count": 80,
      "outputs": []
    },
    {
      "cell_type": "code",
      "source": [
        "import pandas as pd"
      ],
      "metadata": {
        "id": "l8gs8sEv3011"
      },
      "execution_count": 81,
      "outputs": []
    },
    {
      "cell_type": "code",
      "source": [
        "df = pd.read_excel(path)"
      ],
      "metadata": {
        "id": "iaYJ7O-i305p"
      },
      "execution_count": 82,
      "outputs": []
    },
    {
      "cell_type": "code",
      "source": [
        "df = df[['YEAR', 'MONTH', 'REGION', 'SITE ID','SUPPLYPOINT',\n",
        "       'DELIVERY ORDER', 'INVOICE DATE',\n",
        "       'PRODUCT', 'QUANTITY', 'DISCOUNT RATE', 'DISCOUNT AMOUNT',\n",
        "       'PARTY NAME', 'TSM','PAYMENT MODE']]"
      ],
      "metadata": {
        "id": "ernlc17Q309Y"
      },
      "execution_count": 83,
      "outputs": []
    },
    {
      "cell_type": "code",
      "source": [
        "# Convert the QUANTITY column to numeric, coercing errors\n",
        "df['QUANTITY'] = pd.to_numeric(df['QUANTITY'], errors='coerce')\n",
        "df['DISCOUNT RATE'] = pd.to_numeric(df['DISCOUNT RATE'], errors='coerce')\n"
      ],
      "metadata": {
        "id": "VlJlapS4A3lY"
      },
      "execution_count": 84,
      "outputs": []
    },
    {
      "cell_type": "code",
      "source": [
        "month_mapping = {\n",
        "    1: \"July\",\n",
        "    2: \"August\",\n",
        "    3: \"September\",\n",
        "    4: \"October\",\n",
        "    5: \"November\",\n",
        "    6: \"December\",\n",
        "    7: \"January\",\n",
        "    8: \"February\",\n",
        "    9: \"March\",\n",
        "    10: \"April\",\n",
        "    11: \"May\",\n",
        "    12: \"June\"\n",
        "}\n",
        "\n",
        "# Convert MONTH column to month names using the mapping\n",
        "df['MONTH'] = df['MONTH'].map(month_mapping)"
      ],
      "metadata": {
        "id": "rCeNWe6LBGCA"
      },
      "execution_count": 75,
      "outputs": []
    },
    {
      "cell_type": "code",
      "source": [
        "df.info()"
      ],
      "metadata": {
        "id": "3F1Ol0-5BnNy",
        "outputId": "540e85b7-8227-4479-a94d-a4a44cf11b74",
        "colab": {
          "base_uri": "https://localhost:8080/"
        }
      },
      "execution_count": 77,
      "outputs": [
        {
          "output_type": "stream",
          "name": "stdout",
          "text": [
            "<class 'pandas.core.frame.DataFrame'>\n",
            "RangeIndex: 7222 entries, 0 to 7221\n",
            "Data columns (total 14 columns):\n",
            " #   Column           Non-Null Count  Dtype  \n",
            "---  ------           --------------  -----  \n",
            " 0   YEAR             7222 non-null   int64  \n",
            " 1   MONTH            7222 non-null   object \n",
            " 2   REGION           7222 non-null   object \n",
            " 3   SITE ID          4367 non-null   object \n",
            " 4   SUPPLYPOINT      7222 non-null   object \n",
            " 5   DELIVERY ORDER   7222 non-null   object \n",
            " 6   INVOICE DATE     7222 non-null   object \n",
            " 7   PRODUCT          7222 non-null   object \n",
            " 8   QUANTITY         7222 non-null   float64\n",
            " 9   DISCOUNT RATE    7222 non-null   float64\n",
            " 10  DISCOUNT AMOUNT  7222 non-null   int64  \n",
            " 11  PARTY NAME       7221 non-null   object \n",
            " 12  TSM              6986 non-null   object \n",
            " 13  PAYMENT MODE     7222 non-null   object \n",
            "dtypes: float64(2), int64(2), object(10)\n",
            "memory usage: 790.0+ KB\n"
          ]
        }
      ]
    },
    {
      "cell_type": "code",
      "source": [
        "# Step 1: Install Required Libraries\n",
        "#!pip install transformers pandas torch\n",
        "\n",
        "# Step 2: Import Libraries\n",
        "#import pandas as pd\n",
        "#import torch\n",
        "from transformers import AutoTokenizer, AutoModel\n",
        "\n",
        "# Load BERT for simple query understanding\n",
        "tokenizer = AutoTokenizer.from_pretrained(\"bert-base-uncased\")\n",
        "model = AutoModel.from_pretrained(\"bert-base-uncased\")\n",
        "\n",
        "# Step 3: Load the Dataset\n",
        "# data_path = '/path/to/your/dataset.xlsx'  # Replace with your dataset path\n",
        "# df = pd.read_excel(data_path)\n",
        "\n",
        "# Step 4: Define Functions to Process Queries and Handle Data\n",
        "def extract_keywords(query):\n",
        "    # Tokenize query and get keyword tokens\n",
        "    inputs = tokenizer(query, return_tensors=\"pt\")\n",
        "    outputs = model(**inputs)\n",
        "    keywords = query.lower().split()  # For simplicity, treat all words as keywords\n",
        "    return keywords\n",
        "\n",
        "def answer_question(query, df):\n",
        "    keywords = extract_keywords(query)\n",
        "    print(keywords)\n",
        "    # Filter DataFrame by matching keywords to relevant columns\n",
        "    if 'region' in keywords:\n",
        "        region = next((word for word in keywords if word in df['REGION'].str.lower().unique()), None)\n",
        "        if region:\n",
        "            df = df[df['REGION'].str.lower() == region]\n",
        "\n",
        "    if 'month' in keywords:\n",
        "        month = next((word for word in keywords if word in df['MONTH'].str.lower().unique()), None)\n",
        "        print(month)\n",
        "        if month:\n",
        "            df = df[df['MONTH'].str.lower() == month]\n",
        "\n",
        "    # Example calculations for \"sum\" or \"average\" in query\n",
        "    if 'total' in query.lower() or 'sum' in query.lower():\n",
        "        result = df['QUANTITY'].astype(float).sum()\n",
        "    elif 'average' in query.lower():\n",
        "        result = df['QUANTITY'].astype(float).mean()\n",
        "    else:\n",
        "        result = df.head()  # Return a sample of data if no specific aggregation requested\n",
        "\n",
        "    return result\n",
        "\n",
        "# Step 5: Test the Query\n",
        "\n"
      ],
      "metadata": {
        "id": "ZBFe0enk_iS-",
        "outputId": "cf8dc0bd-ab37-46e2-c22c-ad0460c442d0",
        "colab": {
          "base_uri": "https://localhost:8080/"
        }
      },
      "execution_count": 97,
      "outputs": [
        {
          "output_type": "stream",
          "name": "stderr",
          "text": [
            "/usr/local/lib/python3.10/dist-packages/transformers/tokenization_utils_base.py:1601: FutureWarning: `clean_up_tokenization_spaces` was not set. It will be set to `True` by default. This behavior will be depracted in transformers v4.45, and will be then set to `False` by default. For more details check this issue: https://github.com/huggingface/transformers/issues/31884\n",
            "  warnings.warn(\n"
          ]
        }
      ]
    },
    {
      "cell_type": "code",
      "source": [
        "query = \"What is the total QUANTITY for REGION AGRI of Product HSD for the month of July\"\n",
        "print(answer_question(query, df))"
      ],
      "metadata": {
        "id": "2cZtsc0aAACu",
        "outputId": "7b7d8d69-e96b-4fc8-e533-b13cdb9fb3a6",
        "colab": {
          "base_uri": "https://localhost:8080/"
        }
      },
      "execution_count": 99,
      "outputs": [
        {
          "output_type": "stream",
          "name": "stdout",
          "text": [
            "['what', 'is', 'the', 'total', 'quantity', 'for', 'region', 'agri', 'of', 'product', 'hsd', 'for', 'the', 'month', 'of', 'july']\n",
            "july\n",
            "651000.0\n"
          ]
        }
      ]
    },
    {
      "cell_type": "code",
      "source": [
        "# Step 1: Install Required Libraries\n",
        "#!pip install transformers pandas torch\n",
        "\n",
        "# Step 2: Import Libraries\n",
        "#import pandas as pd\n",
        "#import torch\n",
        "#from transformers import AutoTokenizer, AutoModel\n",
        "\n",
        "# Load BERT for simple query understanding\n",
        "tokenizer = AutoTokenizer.from_pretrained(\"bert-base-uncased\")\n",
        "model = AutoModel.from_pretrained(\"bert-base-uncased\")\n",
        "\n",
        "# Step 3: Load the Dataset and Convert 'QUANTITY' and 'MONTH' Columns\n",
        "# data_path = '/path/to/your/dataset.xlsx'  # Replace with your dataset path\n",
        "# df = pd.read_excel(data_path)\n",
        "\n",
        "# Convert QUANTITY column to numeric\n",
        "df['QUANTITY'] = pd.to_numeric(df['QUANTITY'], errors='coerce')\n",
        "\n",
        "# Define month mapping dictionary\n",
        "month_mapping = {\n",
        "    1: \"July\",\n",
        "    2: \"August\",\n",
        "    3: \"September\",\n",
        "    4: \"October\",\n",
        "    5: \"November\",\n",
        "    6: \"December\",\n",
        "    7: \"January\",\n",
        "    8: \"February\",\n",
        "    9: \"March\",\n",
        "    10: \"April\",\n",
        "    11: \"May\",\n",
        "    12: \"June\"\n",
        "}\n",
        "\n",
        "# Convert MONTH column to month names using the mapping\n",
        "df['MONTH'] = df['MONTH'].map(month_mapping)\n",
        "# Define the mapping dictionary for product names\n",
        "product_mapping = {\n",
        "    \"High Speed Diesel\": \"HSD\",\n",
        "    \"Premier Motor Gasoline\": \"PMG\",\n",
        "    # Add more mappings as needed\n",
        "}\n",
        "\n",
        "# Apply the mapping to the PRODUCT column\n",
        "df['PRODUCT'] = df['PRODUCT'].replace(product_mapping)\n",
        "\n",
        "\n",
        "# Step 4: Define Functions to Process Queries and Handle Data\n",
        "def extract_keywords(query):\n",
        "    # Tokenize query and get keyword tokens\n",
        "    inputs = tokenizer(query, return_tensors=\"pt\")\n",
        "\n",
        "    outputs = model(**inputs)\n",
        "\n",
        "    keywords = query.lower().split()     # Basic splitting, can improve with NLP tools\n",
        "    return keywords\n",
        "\n",
        "def answer_question(query, df):\n",
        "    keywords = extract_keywords(query)\n",
        "\n",
        "    # Start with the full DataFrame and filter down based on keywords\n",
        "    filtered_df = df.copy()\n",
        "    print(filtered_df)\n",
        "    # Check for region in keywords and filter\n",
        "    if 'region' in keywords:\n",
        "        region_keyword = next((word for word in keywords if word in filtered_df['REGION'].str.lower().unique()), None)\n",
        "        print(region_keyword)\n",
        "        if region_keyword:\n",
        "            filtered_df = filtered_df[filtered_df['REGION'].str.lower() == region_keyword]\n",
        "\n",
        "    # Check for month in keywords and filter\n",
        "    if 'month' in keywords:\n",
        "        month_keyword = next((word for word in keywords if word in month_mapping.values()), None)\n",
        "        print(month_keyword)\n",
        "        if month_keyword:\n",
        "            filtered_df = filtered_df[filtered_df['MONTH'].str.lower() == month_keyword.lower()]\n",
        "    if 'product'in keywords:\n",
        "        product_keyword = next((word for word in keywords if word in filtered_df['PRODUCT'].str.lower().unique()), None)\n",
        "        print(product_keyword)\n",
        "        if product_keyword:\n",
        "            filtered_df = filtered_df[filtered_df['PRODUCT'].str.lower() == product_keyword.lower()]\n",
        "\n",
        "\n",
        "    # Example calculations for \"sum\" or \"average\" in query\n",
        "    if 'total' in query.lower() or 'sum' in query.lower():\n",
        "        result = filtered_df['QUANTITY'].sum()\n",
        "    elif 'average' in query.lower():\n",
        "        result = filtered_df['QUANTITY'].mean()\n",
        "    else:\n",
        "        result = filtered_df.head()  # Return a sample of data if no specific aggregation requested\n",
        "\n",
        "    return result\n",
        "\n",
        "\n"
      ],
      "metadata": {
        "id": "YquWT8bqCWNs",
        "outputId": "6572ee78-f6a5-40f2-a2df-c1f47068c864",
        "colab": {
          "base_uri": "https://localhost:8080/"
        }
      },
      "execution_count": 85,
      "outputs": [
        {
          "output_type": "stream",
          "name": "stderr",
          "text": [
            "/usr/local/lib/python3.10/dist-packages/transformers/tokenization_utils_base.py:1601: FutureWarning: `clean_up_tokenization_spaces` was not set. It will be set to `True` by default. This behavior will be depracted in transformers v4.45, and will be then set to `False` by default. For more details check this issue: https://github.com/huggingface/transformers/issues/31884\n",
            "  warnings.warn(\n"
          ]
        }
      ]
    },
    {
      "cell_type": "code",
      "source": [
        "# Step 5: Test the Query\n",
        "query = \"show me the Total quantity sold  for Product HSD for the month of July\"\n",
        "print(answer_question)"
      ],
      "metadata": {
        "id": "67q0oEbqCf7y",
        "outputId": "631ea95b-a55a-436e-fcd5-48a00b370d23",
        "colab": {
          "base_uri": "https://localhost:8080/"
        }
      },
      "execution_count": 88,
      "outputs": [
        {
          "output_type": "stream",
          "name": "stdout",
          "text": [
            "<function answer_question at 0x7a0e69531bd0>\n"
          ]
        }
      ]
    },
    {
      "cell_type": "code",
      "source": [
        "query = \"What is the total QUANTITY sold Region of  Agri of Product HSD?\"\n",
        "print(answer_question(query, df))"
      ],
      "metadata": {
        "id": "FP65_7TPL3hs",
        "outputId": "b5ce093b-e77d-4dc6-d7e7-cbfcc05ea7ec",
        "colab": {
          "base_uri": "https://localhost:8080/"
        }
      },
      "execution_count": 92,
      "outputs": [
        {
          "output_type": "stream",
          "name": "stdout",
          "text": [
            "      YEAR      MONTH          REGION      SITE ID SUPPLYPOINT DELIVERY ORDER  \\\n",
            "0     2024       July            Agri          NaN  PORT QASIM     ADVS000001   \n",
            "1     2024       July            Agri          NaN  PORT QASIM     ADVS000001   \n",
            "2     2024       July            Agri          NaN  PORT QASIM     ADVS000002   \n",
            "3     2024       July            Agri          NaN  PORT QASIM     ADVS000003   \n",
            "4     2024       July            Agri          NaN  PORT QASIM     ADVS000003   \n",
            "...    ...        ...             ...          ...         ...            ...   \n",
            "7217  2024  September    Retail North  NOR_KPK_021    TARUJABA     HOOS003993   \n",
            "7218  2024  September    Retail North  NOR_AKG_027      SIHALA     HOOS003994   \n",
            "7219  2024  September    Retail North  NOR_AKG_027      SIHALA     HOOS003995   \n",
            "7220  2024  September  Retail Central  CEN_SHK_006    MACHIKEE     HOOS003996   \n",
            "7221  2024  September  Retail Central  CEN_SHK_006    MACHIKEE     HOOS003996   \n",
            "\n",
            "               INVOICE DATE PRODUCT  QUANTITY  DISCOUNT RATE  DISCOUNT AMOUNT  \\\n",
            "0     2024-07-01 00:00:00.0     HSD    8000.0            0.0                0   \n",
            "1     2024-07-01 00:00:00.0     HSD   21000.0            0.0                0   \n",
            "2     2024-07-02 00:00:00.0     HSD   21000.0            0.0                0   \n",
            "3     2024-07-03 00:00:00.0     HSD   21000.0            0.0                0   \n",
            "4     2024-07-04 00:00:00.0     HSD    8000.0            0.0                0   \n",
            "...                     ...     ...       ...            ...              ...   \n",
            "7217  2024-09-04 00:00:00.0     HSD   40000.0            0.0                0   \n",
            "7218  2024-09-05 00:00:00.0     HSD    8000.0            0.0                0   \n",
            "7219  2024-09-04 00:00:00.0     PMG   12000.0            0.0                0   \n",
            "7220  2024-09-04 00:00:00.0     HSD   10000.0            0.0                0   \n",
            "7221  2024-09-04 00:00:00.0     PMG    5000.0            0.0                0   \n",
            "\n",
            "       PARTY NAME                 TSM PAYMENT MODE  \n",
            "0     HASHIM KHAN        GM MARKETING       Credit  \n",
            "1     HASHIM KHAN        GM MARKETING       Credit  \n",
            "2     HASHIM KHAN        GM MARKETING       Credit  \n",
            "3     HASHIM KHAN        GM MARKETING       Credit  \n",
            "4     HASHIM KHAN        GM MARKETING       Credit  \n",
            "...           ...                 ...          ...  \n",
            "7217       RETAIL    MUHAMMAD TAIMOOR       Credit  \n",
            "7218       RETAIL       FAKHAR HASSAN       Credit  \n",
            "7219       RETAIL       FAKHAR HASSAN       Credit  \n",
            "7220       RETAIL  VACANT SHEIKHUPURA       Credit  \n",
            "7221       RETAIL  VACANT SHEIKHUPURA       Credit  \n",
            "\n",
            "[7222 rows x 14 columns]\n",
            "agri\n",
            "None\n",
            "3343000.0\n"
          ]
        }
      ]
    }
  ],
  "metadata": {
    "colab": {
      "name": "Welcome To Colab",
      "provenance": [],
      "gpuType": "T4"
    },
    "kernelspec": {
      "display_name": "Python 3",
      "name": "python3"
    },
    "accelerator": "GPU"
  },
  "nbformat": 4,
  "nbformat_minor": 0
}