{
  "nbformat": 4,
  "nbformat_minor": 0,
  "metadata": {
    "colab": {
      "provenance": [],
      "authorship_tag": "ABX9TyP8QHliYwF5lKweeP7NGSZ5",
      "include_colab_link": true
    },
    "kernelspec": {
      "name": "python3",
      "display_name": "Python 3"
    },
    "language_info": {
      "name": "python"
    }
  },
  "cells": [
    {
      "cell_type": "markdown",
      "metadata": {
        "id": "view-in-github",
        "colab_type": "text"
      },
      "source": [
        "<a href=\"https://colab.research.google.com/github/azimhims/Generative-AI-/blob/main/langchainGroq.ipynb\" target=\"_parent\"><img src=\"https://colab.research.google.com/assets/colab-badge.svg\" alt=\"Open In Colab\"/></a>"
      ]
    },
    {
      "cell_type": "code",
      "execution_count": 5,
      "metadata": {
        "id": "qh_eJ0JsSF5o"
      },
      "outputs": [],
      "source": [
        "import getpass\n",
        "import os\n"
      ]
    },
    {
      "cell_type": "code",
      "source": [
        "!pip install -qU langchain-groq"
      ],
      "metadata": {
        "colab": {
          "base_uri": "https://localhost:8080/"
        },
        "id": "EZ1kooatS5hp",
        "outputId": "f9e1a22c-7467-416a-d1b0-5b1786dfd73a"
      },
      "execution_count": 4,
      "outputs": [
        {
          "output_type": "stream",
          "name": "stdout",
          "text": [
            "\u001b[?25l   \u001b[90m━━━━━━━━━━━━━━━━━━━━━━━━━━━━━━━━━━━━━━━━\u001b[0m \u001b[32m0.0/109.1 kB\u001b[0m \u001b[31m?\u001b[0m eta \u001b[36m-:--:--\u001b[0m\r\u001b[2K   \u001b[90m━━━━━━━━━━━━━━━━━━━━━━━━━━━━━━━━━━━━━━━━\u001b[0m \u001b[32m109.1/109.1 kB\u001b[0m \u001b[31m3.9 MB/s\u001b[0m eta \u001b[36m0:00:00\u001b[0m\n",
            "\u001b[?25h\u001b[?25l   \u001b[90m━━━━━━━━━━━━━━━━━━━━━━━━━━━━━━━━━━━━━━━━\u001b[0m \u001b[32m0.0/411.6 kB\u001b[0m \u001b[31m?\u001b[0m eta \u001b[36m-:--:--\u001b[0m\r\u001b[2K   \u001b[90m━━━━━━━━━━━━━━━━━━━━━━━━━━━━━━━━━━━━━━━━\u001b[0m \u001b[32m411.6/411.6 kB\u001b[0m \u001b[31m14.9 MB/s\u001b[0m eta \u001b[36m0:00:00\u001b[0m\n",
            "\u001b[?25h"
          ]
        }
      ]
    },
    {
      "cell_type": "code",
      "source": [
        "if not os.environ.get(\"GROQ_API_KEY\"):\n",
        "    os.environ[\"GROQ_API_KEY\"] = getpass.getpass(\"groq_key\")\n",
        "from langchain_groq import ChatGroq\n",
        "model = ChatGroq(model = \"llama3-8b-8192\")"
      ],
      "metadata": {
        "colab": {
          "base_uri": "https://localhost:8080/"
        },
        "id": "hE7q3L5lS5l_",
        "outputId": "b245cb7d-486a-4bda-c274-0f6400b21bba"
      },
      "execution_count": 6,
      "outputs": [
        {
          "name": "stdout",
          "output_type": "stream",
          "text": [
            "groq_key··········\n"
          ]
        }
      ]
    },
    {
      "cell_type": "code",
      "source": [
        "from langchain_core.messages import HumanMessage, SystemMessage\n"
      ],
      "metadata": {
        "id": "I76-ZHxXS5p7"
      },
      "execution_count": 8,
      "outputs": []
    },
    {
      "cell_type": "code",
      "source": [
        "message = [SystemMessage(\"Translate the following from English into Arbi\"), HumanMessage(\"WelCome to Pakistan\"),]\n",
        "model.invoke(message)"
      ],
      "metadata": {
        "colab": {
          "base_uri": "https://localhost:8080/"
        },
        "id": "AnNLJ6PBS5uk",
        "outputId": "eab4e558-0a08-4d2c-e5d1-524c7dac2bdf"
      },
      "execution_count": 10,
      "outputs": [
        {
          "output_type": "execute_result",
          "data": {
            "text/plain": [
              "AIMessage(content='مرحبا پاکستان میں آئے!\\n\\n(Marhaba Pakistan mein aye!)', additional_kwargs={}, response_metadata={'token_usage': {'completion_tokens': 23, 'prompt_tokens': 27, 'total_tokens': 50, 'completion_time': 0.019166667, 'prompt_time': 0.003402136, 'queue_time': 0.016876952, 'total_time': 0.022568803}, 'model_name': 'llama3-8b-8192', 'system_fingerprint': 'fp_179b0f92c9', 'finish_reason': 'stop', 'logprobs': None}, id='run-78f0ee40-0fc7-4cfb-921c-724589cf4856-0', usage_metadata={'input_tokens': 27, 'output_tokens': 23, 'total_tokens': 50})"
            ]
          },
          "metadata": {},
          "execution_count": 10
        }
      ]
    },
    {
      "cell_type": "code",
      "source": [
        "message1 = [SystemMessage(\"Provide the latest News\"), HumanMessage(\"show me Generative AI News\"),]\n",
        "model.invoke(message1)"
      ],
      "metadata": {
        "colab": {
          "base_uri": "https://localhost:8080/"
        },
        "id": "QFndq1TlVIhP",
        "outputId": "4e28ceea-26af-4f2d-b9d2-1d07b7f06a31"
      },
      "execution_count": 11,
      "outputs": [
        {
          "output_type": "execute_result",
          "data": {
            "text/plain": [
              "AIMessage(content=\"Here are some of the latest news and updates on Generative AI:\\n\\n**1. Meta AI's DALL-E 2: A New Level of Realism**\\n\\nMeta AI has unveiled DALL-E 2, a text-to-image model that can generate highly realistic images and videos. The model uses a combination of natural language processing and computer vision to create images that are almost indistinguishable from real-world photographs.\\n\\n**2. Google's Imagen: A New Text-to-Image Model**\\n\\nGoogle has announced Imagen, a new text-to-image model that can generate highly realistic images. Imagen uses a combination of natural language processing and computer vision to create images that are almost indistinguishable from real-world photographs.\\n\\n**3. AI-generated Music Reaches New Heights**\\n\\nAI-generated music has reached new heights with the release of a new AI-powered music composition tool. The tool uses a combination of machine learning and natural language processing to create music that is almost indistinguishable from music composed by humans.\\n\\n**4. Researchers Create AI that Can Generate Customized 3D Models**\\n\\nResearchers at the University of California, Berkeley, have created an AI system that can generate customized 3D models. The system uses a combination of machine learning and computer vision to create 3D models that are almost indistinguishable from real-world objects.\\n\\n**5. AI-generated Short Stories Win Literary Awards**\\n\\nAI-generated short stories have won literary awards, sparking controversy and debate about the role of AI in creative writing. The stories were generated using a combination of machine learning and natural language processing.\\n\\n**6. Microsoft's DeepSpeed: A New AI Framework**\\n\\nMicrosoft has announced DeepSpeed, a new AI framework that can be used to build large-scale AI models. DeepSpeed uses a combination of machine learning and distributed computing to accelerate the training of AI models.\\n\\n**7. Researchers Create AI that Can Generate Customized Fashion Designs**\\n\\nResearchers at the University of California, Los Angeles, have created an AI system that can generate customized fashion designs. The system uses a combination of machine learning and computer vision to create fashion designs that are almost indistinguishable from designs created by humans.\\n\\n**8. AI-generated Videos Reach New Levels of Realism**\\n\\nAI-generated videos have reached new levels of realism, with the release of a new AI-powered video generation tool. The tool uses a combination of machine learning and computer vision to create videos that are almost indistinguishable from real-world videos.\\n\\n**9. Researchers Create AI that Can Generate Customized Interior Design**\\n\\nResearchers at the University of California, San Diego, have created an AI system that can generate customized interior design. The system uses a combination of machine learning and computer vision to create interior designs that are almost indistinguishable from designs created by humans.\\n\\n**10. AI-generated Art Sells for Thousands of Dollars**\\n\\nAI-generated art has sold for thousands of dollars, sparking controversy and debate about the role of AI in the art world. The art was generated using a combination of machine learning and natural language processing.\\n\\nThese are just a few of the latest news and updates on Generative AI. As the technology continues to evolve, we can expect to see even more exciting developments in the future.\", additional_kwargs={}, response_metadata={'token_usage': {'completion_tokens': 644, 'prompt_tokens': 25, 'total_tokens': 669, 'completion_time': 0.536666667, 'prompt_time': 0.003746792, 'queue_time': 0.016917995, 'total_time': 0.540413459}, 'model_name': 'llama3-8b-8192', 'system_fingerprint': 'fp_6a6771ae9c', 'finish_reason': 'stop', 'logprobs': None}, id='run-de3ce61c-cd50-4e7f-9230-5602466403ff-0', usage_metadata={'input_tokens': 25, 'output_tokens': 644, 'total_tokens': 669})"
            ]
          },
          "metadata": {},
          "execution_count": 11
        }
      ]
    },
    {
      "cell_type": "code",
      "source": [
        "#for token in model.stream(message1):\n",
        "a = model.invoke(message1)"
      ],
      "metadata": {
        "id": "2rRg9F2WVIla"
      },
      "execution_count": 19,
      "outputs": []
    },
    {
      "cell_type": "code",
      "source": [
        "print(a)"
      ],
      "metadata": {
        "colab": {
          "base_uri": "https://localhost:8080/",
          "height": 184
        },
        "id": "7nw8ZBGMVIpF",
        "outputId": "39ff06be-cfc0-4a3b-ff52-a55d628a7a48"
      },
      "execution_count": 22,
      "outputs": [
        {
          "output_type": "stream",
          "name": "stdout",
          "text": [
            "content='Here are the latest news and updates on Generative AI:\\n\\n**Meta AI\\'s Text-to-Image Model**\\n\\n* Meta AI has released a new text-to-image model called \"DALL-E Mini\" that can generate images from text prompts with impressive results. (Source: Meta AI Blog)\\n* The model uses a combination of generative adversarial networks (GANs) and transformers to generate high-quality images.\\n\\n**Google\\'s AI-Powered Chatbot**\\n\\n* Google has launched a new AI-powered chatbot called \"Meena\" that can engage in natural-sounding conversations with humans. (Source: The Verge)\\n* Meena uses a combination of machine learning and natural language processing to understand and respond to user queries.\\n\\n**Facebook\\'s AI-Powered Language Model**\\n\\n* Facebook has announced the development of a new AI-powered language model called \"LLaMA\" that can generate human-like text responses. (Source: Facebook AI)\\n* The model uses a combination of transformer architecture and self-supervised learning to generate high-quality text.\\n\\n**Stanford University\\'s AI-Powered Art Generator**\\n\\n* Researchers at Stanford University have developed an AI-powered art generator that can create original paintings and drawings. (Source: Stanford University News)\\n* The model uses a combination of generative adversarial networks (GANs) and neural networks to generate high-quality artworks.\\n\\n**DeepMind\\'s AI-Powered Music Composer**\\n\\n* DeepMind, a subsidiary of Alphabet, has developed an AI-powered music composer that can generate original music compositions. (Source: DeepMind Blog)\\n* The model uses a combination of recurrent neural networks (RNNs) and generative adversarial networks (GANs) to generate high-quality music.\\n\\n**Microsoft\\'s AI-Powered Image Generator**\\n\\n* Microsoft has announced the development of an AI-powered image generator called \"DALL-E\" that can generate high-quality images from text prompts. (Source: Microsoft AI Blog)\\n* The model uses a combination of generative adversarial networks (GANs) and transformers to generate high-quality images.\\n\\n**OpenAI\\'s AI-Powered Language Model**\\n\\n* OpenAI has released a new AI-powered language model called \"Codex\" that can generate high-quality text responses to programming prompts. (Source: OpenAI Blog)\\n* The model uses a combination of transformer architecture and self-supervised learning to generate high-quality text.\\n\\nThese are just a few of the latest developments in the field of Generative AI. As the technology continues to evolve, we can expect to see even more impressive applications of AI in various industries and domains.' additional_kwargs={} response_metadata={'token_usage': {'completion_tokens': 515, 'prompt_tokens': 25, 'total_tokens': 540, 'completion_time': 0.429166667, 'prompt_time': 0.003179486, 'queue_time': 0.018335104, 'total_time': 0.432346153}, 'model_name': 'llama3-8b-8192', 'system_fingerprint': 'fp_179b0f92c9', 'finish_reason': 'stop', 'logprobs': None} id='run-67c8afd9-5db7-4343-9e13-447358440945-0' usage_metadata={'input_tokens': 25, 'output_tokens': 515, 'total_tokens': 540}\n"
          ]
        },
        {
          "output_type": "error",
          "ename": "TypeError",
          "evalue": "'NoneType' object is not subscriptable",
          "traceback": [
            "\u001b[0;31m---------------------------------------------------------------------------\u001b[0m",
            "\u001b[0;31mTypeError\u001b[0m                                 Traceback (most recent call last)",
            "\u001b[0;32m<ipython-input-22-bc91722e5904>\u001b[0m in \u001b[0;36m<cell line: 1>\u001b[0;34m()\u001b[0m\n\u001b[0;32m----> 1\u001b[0;31m \u001b[0mprint\u001b[0m\u001b[0;34m(\u001b[0m\u001b[0ma\u001b[0m\u001b[0;34m)\u001b[0m\u001b[0;34m[\u001b[0m\u001b[0;36m1\u001b[0m\u001b[0;34m]\u001b[0m\u001b[0;34m\u001b[0m\u001b[0;34m\u001b[0m\u001b[0m\n\u001b[0m",
            "\u001b[0;31mTypeError\u001b[0m: 'NoneType' object is not subscriptable"
          ]
        }
      ]
    },
    {
      "cell_type": "code",
      "source": [
        "frameworkMessage = [SystemMessage(\"you are more then 20 year experience in office work and creating a presentation and letter draffing, emails, report writing\"), HumanMessage(\"will you generate a report writing on GeneratvieAI, and create a presentation on it\"),]\n",
        "model.invoke(frameworkMessage)"
      ],
      "metadata": {
        "colab": {
          "base_uri": "https://localhost:8080/"
        },
        "id": "S_61V5AVYAOM",
        "outputId": "26dc1492-faf1-461a-f085-b7b7f2b5c366"
      },
      "execution_count": 27,
      "outputs": [
        {
          "output_type": "execute_result",
          "data": {
            "text/plain": [
              "AIMessage(content='Here is a report on Generative AI and a presentation based on the report:\\n\\n**Report:**\\n\\nTitle: The Potential of Generative AI in Revolutionizing Industries\\n\\nIntroduction:\\nGenerative AI has been gaining significant attention in recent years due to its ability to create new and original content, products, and services. This technology has the potential to revolutionize various industries, including healthcare, finance, marketing, and education. In this report, we will explore the concept of generative AI, its applications, and its potential impact on different industries.\\n\\nWhat is Generative AI?\\nGenerative AI refers to a type of artificial intelligence that has the ability to generate new and original content, products, or services. It uses complex algorithms and machine learning techniques to analyze large amounts of data and create new output that is unique and innovative. Generative AI can be used to create a wide range of content, including text, images, music, and videos.\\n\\nApplications of Generative AI:\\nGenerative AI has numerous applications across various industries. Some of the most significant applications include:\\n\\n1. Content Creation: Generative AI can be used to create original content, such as articles, social media posts, and advertisements.\\n2. Healthcare: Generative AI can be used to create personalized treatments and diagnoses for patients, as well as to develop new medicines and treatments.\\n3. Finance: Generative AI can be used to create personalized financial products and services, such as investment portfolios and loan options.\\n4. Marketing: Generative AI can be used to create personalized marketing campaigns and advertisements, as well as to analyze customer behavior and preferences.\\n5. Education: Generative AI can be used to create personalized educational content and materials, as well as to develop new learning methods and strategies.\\n\\nImpact of Generative AI on Industries:\\nGenerative AI has the potential to revolutionize various industries, including:\\n\\n1. Healthcare: Generative AI can be used to create personalized treatments and diagnoses for patients, which can lead to improved health outcomes and reduced costs.\\n2. Finance: Generative AI can be used to create personalized financial products and services, which can lead to improved financial inclusion and reduced financial risk.\\n3. Marketing: Generative AI can be used to create personalized marketing campaigns and advertisements, which can lead to improved customer engagement and increased sales.\\n4. Education: Generative AI can be used to create personalized educational content and materials, which can lead to improved learning outcomes and increased student engagement.\\n\\nChallenges and Limitations:\\nWhile generative AI has the potential to revolutionize various industries, it also has several challenges and limitations. Some of the most significant challenges include:\\n\\n1. Data Quality: Generative AI requires high-quality data to function effectively, which can be a challenge in many industries.\\n2. Bias: Generative AI can perpetuate biases and stereotypes if it is trained on biased data, which can lead to inaccurate and unfair outcomes.\\n3. Explainability: Generative AI can be difficult to explain and understand, which can make it challenging to develop trust and accountability.\\n\\nConclusion:\\nGenerative AI has the potential to revolutionize various industries, including healthcare, finance, marketing, and education. While it has several challenges and limitations, the benefits of generative AI far outweigh the drawbacks. As this technology continues to evolve and improve, we can expect to see significant changes and innovations in various industries.\\n\\n**Presentation:**\\n\\nSlide 1: Title Slide\\n\\n* Title: The Potential of Generative AI in Revolutionizing Industries\\n* Subtitle: Exploring the Benefits and Challenges of Generative AI\\n\\nSlide 2: What is Generative AI?\\n\\n* Definition: Generative AI refers to a type of artificial intelligence that has the ability to generate new and original content, products, or services.\\n* Examples: Text, images, music, and videos\\n\\nSlide 3: Applications of Generative AI\\n\\n* Content Creation\\n* Healthcare\\n* Finance\\n* Marketing\\n* Education\\n\\nSlide 4: Healthcare\\n\\n* Personalized treatments and diagnoses\\n* Development of new medicines and treatments\\n* Improved health outcomes and reduced costs\\n\\nSlide 5: Finance\\n\\n* Personalized financial products and services\\n* Improved financial inclusion and reduced financial risk\\n* Increased efficiency and reduced costs\\n\\nSlide 6: Marketing\\n\\n* Personalized marketing campaigns and advertisements\\n* Improved customer engagement and increased sales\\n* Increased efficiency and reduced costs\\n\\nSlide 7: Education\\n\\n* Personalized educational content and materials\\n* Improved learning outcomes and increased student engagement\\n* Increased efficiency and reduced costs\\n\\nSlide 8: Challenges and Limitations\\n\\n* Data Quality\\n* Bias\\n* Explainability\\n\\nSlide 9: Conclusion\\n\\n* Generative AI has the potential to revolutionize various industries\\n* Challenges and limitations, but benefits outweigh drawbacks\\n* Future of generative AI is exciting and full of possibilities\\n\\nSlide 10: References\\n\\n* List of sources used in the report\\n\\nNote: The presentation can include more slides and details, but this is a basic outline. You can add more visuals, charts, and graphs to make the presentation more engaging and informative.', additional_kwargs={}, response_metadata={'token_usage': {'completion_tokens': 1024, 'prompt_tokens': 58, 'total_tokens': 1082, 'completion_time': 0.853333333, 'prompt_time': 0.007740731, 'queue_time': 0.019001866, 'total_time': 0.861074064}, 'model_name': 'llama3-8b-8192', 'system_fingerprint': 'fp_a97cfe35ae', 'finish_reason': 'stop', 'logprobs': None}, id='run-04c58b92-de50-41cc-b8ae-99179af54c2d-0', usage_metadata={'input_tokens': 58, 'output_tokens': 1024, 'total_tokens': 1082})"
            ]
          },
          "metadata": {},
          "execution_count": 27
        }
      ]
    },
    {
      "cell_type": "code",
      "source": [],
      "metadata": {
        "id": "zXquoS8kYARu"
      },
      "execution_count": null,
      "outputs": []
    },
    {
      "cell_type": "code",
      "source": [],
      "metadata": {
        "id": "QUJ6CW-pYAVk"
      },
      "execution_count": null,
      "outputs": []
    }
  ]
}